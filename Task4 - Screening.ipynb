{
 "metadata": {
  "language_info": {
   "codemirror_mode": {
    "name": "ipython",
    "version": 3
   },
   "file_extension": ".py",
   "mimetype": "text/x-python",
   "name": "python",
   "nbconvert_exporter": "python",
   "pygments_lexer": "ipython3",
   "version": "3.6.5-final"
  },
  "orig_nbformat": 2,
  "kernelspec": {
   "name": "python36564bit9583d59c676043348f78956345a9a360",
   "display_name": "Python 3.6.5 64-bit"
  }
 },
 "nbformat": 4,
 "nbformat_minor": 2,
 "cells": [
  {
   "cell_type": "markdown",
   "metadata": {},
   "source": [
    "# QOSF Mentorship Program: Screening Task 4\n",
    "\n",
    "### The task is to find the lowest eigenvalue of a given $H$ matrix using Variational Quantum Eigensolver where, \n",
    "\n",
    "$$\n",
    "H = \\begin{pmatrix}\n",
    "1 & 0 & 0 & 0\\\\\n",
    "0 & 0 & -1 & 0\\\\\n",
    "0 & -1 & 0 & 0\\\\\n",
    "0 & 0 & 0 & 1\\\\\n",
    "\\end{pmatrix}\n",
    "$$\n",
    "\n",
    "The first step is to decompose the Hamiltionian $H$ matrix as a linear combination of Pauli matrices. Here 2 qubit pauli matrices are used since $H$ is a 4x4 matrix. It should be noted that $XX \\equiv X \\otimes X$, and the notation is used only for convenience. The pauli matrices are given as: \n",
    "\n",
    "$$\n",
    "XX = \\begin{pmatrix}\n",
    "0 & 0 & 0 & 1\\\\\n",
    "0 & 0 & 1 & 0\\\\\n",
    "0 & 1 & 0 & 0\\\\\n",
    "1 & 0 & 0 & 0\\\\\n",
    "\\end{pmatrix},\n",
    "\n",
    "\\qquad\n",
    "\n",
    "YY = \\begin{pmatrix}\n",
    "0 & 0 & 0 & -1\\\\\n",
    "0 & 0 & 1 & 0\\\\\n",
    "0 & 1 & 0 & 0\\\\\n",
    "-1 & 0 & 0 & 0\\\\\n",
    "\\end{pmatrix}, \n",
    "\n",
    "\\qquad\n",
    "\n",
    "ZZ = \\begin{pmatrix}\n",
    "1 & 0 & 0 & 0\\\\\n",
    "0 & -1 & 0 & 0\\\\\n",
    "0 & 0 & -1 & 0\\\\\n",
    "0 & 0 & 0 & 1\\\\\n",
    "\\end{pmatrix}.\n",
    "$$\n",
    "\n",
    "Now, its very intuitive that simply adding XX and YY gives us the twice of the rows 2 and 3.\n",
    "$$\n",
    "XX+YY = \\begin{pmatrix}\n",
    "0 & 0 & 0 & 0\\\\\n",
    "0 & 0 & 2 & 0\\\\\n",
    "0 & 2 & 0 & 0\\\\\n",
    "0 & 0 & 0 & 0\\\\\n",
    "\\end{pmatrix}\n",
    "$$\n",
    "\n",
    "\n",
    "Similarly, adding ZZ and II gives us ttwice of the first and last rows.\n",
    "\n",
    "$$\n",
    "ZZ + II = \\begin{pmatrix}\n",
    "2 & 0 & 0 & 0\\\\\n",
    "0 & 0 & 0 & 0\\\\\n",
    "0 & 0 & 0 & 0\\\\\n",
    "0 & 0 & 0 & 2\\\\\n",
    "\\end{pmatrix}\n",
    "$$\n",
    "\n",
    "Its very clear from here that $H = \\frac{1}{2} (ZZ + II - XX - YY)$. \n",
    "\n",
    "In order to create separate ciruits for each term, we can write $H = H_{1} + H_{2} + H_{3} + H_{4}$, where \n",
    "\n",
    "$$\n",
    "\n",
    "H_{1} = \\frac{1}{2} ZZ,\\quad\n",
    "\n",
    "H_{2} = -\\frac{1}{2} XX,\\quad\n",
    "\n",
    "H_{3} = -\\frac{1}{2} YY,\\quad\n",
    "\n",
    "H_{4} = \\frac{1}{2} II.\\quad\n",
    "$$\n"
   ]
  },
  {
   "cell_type": "code",
   "execution_count": 1,
   "metadata": {},
   "outputs": [],
   "source": [
    "from qiskit import *\n",
    "from qiskit import Aer, execute\n",
    "import numpy as np\n",
    "from numpy import pi"
   ]
  },
  {
   "cell_type": "markdown",
   "metadata": {},
   "source": [
    "### This program uses QISKIT statevector simulator backend since we want to find the lowest theoretical eigenvalue."
   ]
  },
  {
   "cell_type": "code",
   "execution_count": 2,
   "metadata": {
    "tags": []
   },
   "outputs": [],
   "source": [
    "backend = Aer.get_backend('statevector_simulator')\n",
    "# The number of measurements to implement\n",
    "num_shots = 1000                                  "
   ]
  },
  {
   "cell_type": "markdown",
   "metadata": {},
   "source": [
    "### The next cell defines a function to find the probability of each state by squaring the absolute value of amplitude in a given statevector."
   ]
  },
  {
   "cell_type": "code",
   "execution_count": 3,
   "metadata": {},
   "outputs": [],
   "source": [
    "def get_prob(v):\n",
    "    return abs(v)**2"
   ]
  },
  {
   "cell_type": "markdown",
   "metadata": {},
   "source": [
    "$$\n",
    "\\newcommand{\\ket}[1]{\\left|{#1}\\right\\rangle}\n",
    "\\newcommand{\\bra}[1]{\\left\\langle{#1}\\right|}\n",
    "$$\n",
    "\n",
    "## Expectation values of 2 qubit Pauli matrices\n",
    "\n",
    "### The following cell defines a function to find the expectation value of the $H$ matrix by using the probability counts for each of the standard (Z) basis states.\n",
    "\n",
    "### Let $ \\ket{\\psi} = \\alpha \\ket{00} + \\beta \\ket{01} + \\gamma \\ket{10} + \\delta \\ket{11} .$\n",
    "\n",
    "### $ Z \\ket{0} = \\ket{0}, Z \\ket{1} = - \\ket{1} $\n",
    "\n",
    "### $ \\implies ZZ \\ket{\\psi} = \\alpha \\ket{00} - \\beta \\ket{01} - \\gamma \\ket{10} + \\delta \\ket{11} $\n",
    "\n",
    "### Then $\\bra{\\psi} ZZ \\ket{\\psi} = \\alpha^{2} - \\beta^{2} - \\gamma^{2} + \\delta^{2} $\n",
    "\n",
    "We know that the square of amplitude of an eigenstate corresponds to the probability of measuring it.\n",
    "\n",
    "## $ \\implies \\bra{\\psi} ZZ \\ket{\\psi} = P_{00} - P_{01} - P_{10} + P_{11} $"
   ]
  },
  {
   "cell_type": "code",
   "execution_count": 4,
   "metadata": {},
   "outputs": [],
   "source": [
    "def expect(prob_vector): #(counts['00'] - counts['01'] - counts['10'] + counts['11'])/num_shots\n",
    "    '''\n",
    "    Input: The statevector probabilities.\n",
    "    Output: Measurement probabilities in Z basis, with proability counts for each state added properly\n",
    "    '''\n",
    "    return (prob_vector[0] - prob_vector[1] - prob_vector[2] + prob_vector[3])"
   ]
  },
  {
   "cell_type": "markdown",
   "metadata": {},
   "source": [
    "## Transformations for measuring XX and YY in the standard Z basis\n",
    "\n",
    "In order to measure terms with X and Y pauli matrices in the standard $Z$ basis, some operation $U$ needs to be applied onto the original state $\\ket{\\psi}$.\n",
    "\n",
    "For the $Z$ pauli matrix, no operation is needed to measure in $Z$ basis. Now, since $X$ and $Y$ basis are just rotations in the bloch sphere, we can convert these into the $Z$ basis by applying corresponding $RX(\\theta)$ and $RY(\\theta)$ gates to the circuit. If there is a $X$ pauli matrix, we undo it by applying the $RY(-\\frac{\\pi}{2})$, which is also the Hadamard gate and for a $Y$ pauli matrix, we apply the $RX(\\frac{\\pi}{2})$ gate. After applying these operations, the circuit can be measured in the $Z$ basis as usual.\n",
    "\n",
    "### **Note:** The last term $H_{4}$ with the identity matrix doesn't need a circuit. This is because it is just a constant, and we can just add 1 later to the expectation values of the rest of the terms."
   ]
  },
  {
   "source": [
    "## Ansatz initial state for the wavefunction $\\ket{\\psi}$\n",
    "\n",
    "Here the **ansatz** used for the **initial state** is: \n",
    "\n",
    "## $ \\ket{\\psi} = (RX(\\theta) \\otimes I) \\,\\, CX \\,\\, (H \\otimes I)\\,\\, \\ket{00} $, where $\\theta$ is the variational parameter."
   ],
   "cell_type": "markdown",
   "metadata": {}
  },
  {
   "cell_type": "code",
   "execution_count": 5,
   "metadata": {},
   "outputs": [
    {
     "output_type": "execute_result",
     "data": {
      "text/plain": "     ┌────────┐     ┌───┐\nq_0: ┤ RX(pi) ├──■──┤ H ├\n     └────────┘┌─┴─┐└───┘\nq_1: ──────────┤ X ├─────\n               └───┘     \nc: 2/════════════════════\n                         ",
      "text/html": "<pre style=\"word-wrap: normal;white-space: pre;background: #fff0;line-height: 1.1;font-family: &quot;Courier New&quot;,Courier,monospace\">     ┌────────┐     ┌───┐\nq_0: ┤ RX(pi) ├──■──┤ H ├\n     └────────┘┌─┴─┐└───┘\nq_1: ──────────┤ X ├─────\n               └───┘     \nc: 2/════════════════════\n                         </pre>"
     },
     "metadata": {},
     "execution_count": 5
    }
   ],
   "source": [
    "# Sample of the ansatz circuit\n",
    "circ = QuantumCircuit(2, 2)\n",
    "circ.rx(pi, 0)\n",
    "circ.cx(0, 1)\n",
    "circ.h(0)\n",
    "circ.draw()\n",
    "#circ.draw(output='mpl')"
   ]
  },
  {
   "source": [
    "### The following cells define functions that create appropriate circuits for each term in the Hamiltonian matrix. "
   ],
   "cell_type": "markdown",
   "metadata": {}
  },
  {
   "cell_type": "code",
   "execution_count": 6,
   "metadata": {
    "tags": []
   },
   "outputs": [],
   "source": [
    "def H1(theta):                      # ZZ term\n",
    "    \n",
    "    circ = QuantumCircuit(2, 2)     # Initialize 2-qubit Quantum Circuit\n",
    "\n",
    "    # ansatz\n",
    "    circ.rx(theta, 0)\n",
    "    circ.cx(0, 1)\n",
    "    circ.h(0)\n",
    "    \n",
    "    circ.measure([0,1], [0,1])\n",
    "\n",
    "    result = execute(circ, backend, shots = num_shots).result()\n",
    "    statevector = result.get_statevector(circ)\n",
    "    return expect(get_prob(statevector))"
   ]
  },
  {
   "cell_type": "code",
   "execution_count": 7,
   "metadata": {
    "tags": []
   },
   "outputs": [],
   "source": [
    "def H2(theta):                      # XX term\n",
    "\n",
    "    circ = QuantumCircuit(2, 2)     # Initialize 2-qubit Quantum Circuit\n",
    "    \n",
    "    # ansatz\n",
    "    circ.rx(theta, 0)\n",
    "    circ.cx(0, 1)\n",
    "    circ.h(0)\n",
    "\n",
    "    # Rotations to enable measurement in Z basis (equivalent alternative gate commente0d).\n",
    "    circ.h(0)  #circ2.ry(-pi/2, 0)\n",
    "    circ.h(1)  #circ2.ry(-pi/2, 1)\n",
    "\n",
    "    circ.measure([0,1], [0,1])\n",
    "\n",
    "    result = execute(circ, backend, shots = num_shots).result()\n",
    "    statevector = result.get_statevector(circ)\n",
    "    return expect(get_prob(statevector))"
   ]
  },
  {
   "cell_type": "code",
   "execution_count": 8,
   "metadata": {
    "tags": []
   },
   "outputs": [],
   "source": [
    "def H3(theta):                      # YY term\n",
    "\n",
    "    circ = QuantumCircuit(2, 2)     # Initialize 2-qubit Quantum Circuit\n",
    "    \n",
    "    # ansatz\n",
    "    circ.rx(theta, 0)\n",
    "    circ.cx(0, 1)\n",
    "    circ.h(0)\n",
    "\n",
    "    # Rotations to enable measurement in Z basis\n",
    "    circ.rx(pi/2, 0)\n",
    "    circ.rx(pi/2, 1)\n",
    "    \n",
    "    circ.measure([0,1], [0,1])\n",
    "\n",
    "    result = execute(circ, backend, shots = num_shots).result()\n",
    "    statevector = result.get_statevector(circ)\n",
    "    return expect(get_prob(statevector))"
   ]
  },
  {
   "cell_type": "markdown",
   "metadata": {},
   "source": [
    "### The following cell defines a function which simply finds the expectation values of all the terms in the Hamiltonian, and returns half of that value."
   ]
  },
  {
   "cell_type": "code",
   "execution_count": 9,
   "metadata": {},
   "outputs": [],
   "source": [
    "def Hamiltonian_eigen(theta):\n",
    "    c = H1(theta) - H2(theta) - H3(theta) + 1           # The 1 comes from the identity matrix in H4 term, since it always remains constant.\n",
    "    return c/2                                          # The complete Hamiltonian is divided by 2, which is again just a constant scaling hence used here"
   ]
  },
  {
   "cell_type": "markdown",
   "metadata": {},
   "source": [
    "## We simulate the code for 500 values (can be changed) of $\\theta$ from 0 to 2$\\pi$, and find the minimum eigenvalue using its outcomes."
   ]
  },
  {
   "cell_type": "code",
   "execution_count": 10,
   "metadata": {
    "tags": []
   },
   "outputs": [],
   "source": [
    "intervals = 500\n",
    "X = np.linspace(0, 2*pi, intervals)\n",
    "Y = []\n",
    "for i in X:\n",
    "    Y.append(Hamiltonian_eigen(i))"
   ]
  },
  {
   "cell_type": "code",
   "execution_count": 11,
   "metadata": {
    "tags": []
   },
   "outputs": [
    {
     "output_type": "stream",
     "name": "stdout",
     "text": "============================================================\nLowest predicted eigenvalue is: -1.0 for theta = 0.025183107443605555\n============================================================\n"
    }
   ],
   "source": [
    "predicted_eigenvalue = np.min(Y)\n",
    "theta_value = X[Y.index(predicted_eigenvalue)]\n",
    "print(\"=\"*60)\n",
    "print(\"Lowest predicted eigenvalue is:\", predicted_eigenvalue, \"for theta =\", theta_value)\n",
    "print(\"=\"*60)"
   ]
  },
  {
   "cell_type": "markdown",
   "metadata": {},
   "source": [
    "## Now let's check using numpy the actual lowest eigenvalue and verify our solution"
   ]
  },
  {
   "cell_type": "code",
   "execution_count": 12,
   "metadata": {
    "tags": []
   },
   "outputs": [
    {
     "output_type": "stream",
     "name": "stdout",
     "text": "============================================================\nActual lowest eigenvalue is: -1.0\n============================================================\nThe predicted lowest eigenvalue is equal to the actual eigenvalue.\n"
    }
   ],
   "source": [
    "H = [[1, 0, 0, 0], [0, 0, -1, 0], [0, -1, 0, 0], [0, 0, 0, 1]]\n",
    "w, v = np.linalg.eig(H)\n",
    "actual_eigenvalue = np.min(w)\n",
    "\n",
    "prediction = \"equal\" if predicted_eigenvalue == actual_eigenvalue else \"not equal\"\n",
    "\n",
    "print(\"=\"*60)\n",
    "print(\"Actual lowest eigenvalue is:\", actual_eigenvalue)\n",
    "print(\"=\"*60)\n",
    "print(\"The predicted lowest eigenvalue is\", prediction, \"to the actual eigenvalue.\")"
   ]
  },
  {
   "cell_type": "code",
   "execution_count": null,
   "metadata": {},
   "outputs": [],
   "source": []
  }
 ]
}